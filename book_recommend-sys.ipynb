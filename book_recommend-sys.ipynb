{
 "cells": [
  {
   "cell_type": "code",
   "execution_count": 1,
   "id": "b280d195-feaf-47a7-904b-e0ec7858cb14",
   "metadata": {},
   "outputs": [],
   "source": [
    "import pandas as pd\n",
    "import numpy as np\n",
    "import matplotlib.pyplot as plt\n",
    "import seaborn as sns\n",
    "import sklearn\n",
    "import os\n"
   ]
  },
  {
   "cell_type": "code",
   "execution_count": 2,
   "id": "3984a3ae-732d-4848-bc18-257a5ad7cf0d",
   "metadata": {},
   "outputs": [],
   "source": [
    "books_col=['ISBN','BookTitle','BookAuthor','YearOfPublication','Publisher',\t'ImageURLS','ImageURLM','ImageURLL']\n",
    "users_col=['UserID','Location','Age']\n",
    "ratings_col=['UserID','ISBN','BookRating']"
   ]
  },
  {
   "cell_type": "code",
   "execution_count": 3,
   "id": "ec322979-e4bb-4d73-a226-0ab2cdcc933e",
   "metadata": {},
   "outputs": [],
   "source": [
    "books = pd.read_csv(\"C:\\\\Users\\\\AKASH SHARMA\\\\Desktop\\\\ml_projects\\\\Books.csv\",low_memory=False)\n",
    "books.columns=books_col\n",
    "users=pd.read_csv(\"C:\\\\Users\\\\AKASH SHARMA\\\\Desktop\\\\ml_projects\\\\Users.csv\")\n",
    "users.columns=users_col\n",
    "ratings=pd.read_csv(\"C:\\\\Users\\\\AKASH SHARMA\\\\Desktop\\\\ml_projects\\\\Ratings.csv\")\n",
    "ratings.columns=ratings_col"
   ]
  },
  {
   "cell_type": "code",
   "execution_count": 4,
   "id": "30fdd27f-0a0c-4b04-87e9-cc8060deae08",
   "metadata": {},
   "outputs": [
    {
     "data": {
      "text/html": [
       "<div>\n",
       "<style scoped>\n",
       "    .dataframe tbody tr th:only-of-type {\n",
       "        vertical-align: middle;\n",
       "    }\n",
       "\n",
       "    .dataframe tbody tr th {\n",
       "        vertical-align: top;\n",
       "    }\n",
       "\n",
       "    .dataframe thead th {\n",
       "        text-align: right;\n",
       "    }\n",
       "</style>\n",
       "<table border=\"1\" class=\"dataframe\">\n",
       "  <thead>\n",
       "    <tr style=\"text-align: right;\">\n",
       "      <th></th>\n",
       "      <th>ISBN</th>\n",
       "      <th>BookTitle</th>\n",
       "      <th>BookAuthor</th>\n",
       "      <th>YearOfPublication</th>\n",
       "      <th>Publisher</th>\n",
       "      <th>ImageURLS</th>\n",
       "      <th>ImageURLM</th>\n",
       "      <th>ImageURLL</th>\n",
       "    </tr>\n",
       "  </thead>\n",
       "  <tbody>\n",
       "    <tr>\n",
       "      <th>0</th>\n",
       "      <td>0195153448</td>\n",
       "      <td>Classical Mythology</td>\n",
       "      <td>Mark P. O. Morford</td>\n",
       "      <td>2002</td>\n",
       "      <td>Oxford University Press</td>\n",
       "      <td>http://images.amazon.com/images/P/0195153448.0...</td>\n",
       "      <td>http://images.amazon.com/images/P/0195153448.0...</td>\n",
       "      <td>http://images.amazon.com/images/P/0195153448.0...</td>\n",
       "    </tr>\n",
       "    <tr>\n",
       "      <th>1</th>\n",
       "      <td>0002005018</td>\n",
       "      <td>Clara Callan</td>\n",
       "      <td>Richard Bruce Wright</td>\n",
       "      <td>2001</td>\n",
       "      <td>HarperFlamingo Canada</td>\n",
       "      <td>http://images.amazon.com/images/P/0002005018.0...</td>\n",
       "      <td>http://images.amazon.com/images/P/0002005018.0...</td>\n",
       "      <td>http://images.amazon.com/images/P/0002005018.0...</td>\n",
       "    </tr>\n",
       "    <tr>\n",
       "      <th>2</th>\n",
       "      <td>0060973129</td>\n",
       "      <td>Decision in Normandy</td>\n",
       "      <td>Carlo D'Este</td>\n",
       "      <td>1991</td>\n",
       "      <td>HarperPerennial</td>\n",
       "      <td>http://images.amazon.com/images/P/0060973129.0...</td>\n",
       "      <td>http://images.amazon.com/images/P/0060973129.0...</td>\n",
       "      <td>http://images.amazon.com/images/P/0060973129.0...</td>\n",
       "    </tr>\n",
       "  </tbody>\n",
       "</table>\n",
       "</div>"
      ],
      "text/plain": [
       "         ISBN             BookTitle            BookAuthor YearOfPublication  \\\n",
       "0  0195153448   Classical Mythology    Mark P. O. Morford              2002   \n",
       "1  0002005018          Clara Callan  Richard Bruce Wright              2001   \n",
       "2  0060973129  Decision in Normandy          Carlo D'Este              1991   \n",
       "\n",
       "                 Publisher                                          ImageURLS  \\\n",
       "0  Oxford University Press  http://images.amazon.com/images/P/0195153448.0...   \n",
       "1    HarperFlamingo Canada  http://images.amazon.com/images/P/0002005018.0...   \n",
       "2          HarperPerennial  http://images.amazon.com/images/P/0060973129.0...   \n",
       "\n",
       "                                           ImageURLM  \\\n",
       "0  http://images.amazon.com/images/P/0195153448.0...   \n",
       "1  http://images.amazon.com/images/P/0002005018.0...   \n",
       "2  http://images.amazon.com/images/P/0060973129.0...   \n",
       "\n",
       "                                           ImageURLL  \n",
       "0  http://images.amazon.com/images/P/0195153448.0...  \n",
       "1  http://images.amazon.com/images/P/0002005018.0...  \n",
       "2  http://images.amazon.com/images/P/0060973129.0...  "
      ]
     },
     "execution_count": 4,
     "metadata": {},
     "output_type": "execute_result"
    }
   ],
   "source": [
    "books.head(3)"
   ]
  },
  {
   "cell_type": "code",
   "execution_count": 5,
   "id": "bbca6693-5380-4e93-b195-3d06786f79d8",
   "metadata": {},
   "outputs": [
    {
     "data": {
      "text/html": [
       "<div>\n",
       "<style scoped>\n",
       "    .dataframe tbody tr th:only-of-type {\n",
       "        vertical-align: middle;\n",
       "    }\n",
       "\n",
       "    .dataframe tbody tr th {\n",
       "        vertical-align: top;\n",
       "    }\n",
       "\n",
       "    .dataframe thead th {\n",
       "        text-align: right;\n",
       "    }\n",
       "</style>\n",
       "<table border=\"1\" class=\"dataframe\">\n",
       "  <thead>\n",
       "    <tr style=\"text-align: right;\">\n",
       "      <th></th>\n",
       "      <th>UserID</th>\n",
       "      <th>ISBN</th>\n",
       "      <th>BookRating</th>\n",
       "    </tr>\n",
       "  </thead>\n",
       "  <tbody>\n",
       "    <tr>\n",
       "      <th>0</th>\n",
       "      <td>276725</td>\n",
       "      <td>034545104X</td>\n",
       "      <td>0</td>\n",
       "    </tr>\n",
       "    <tr>\n",
       "      <th>1</th>\n",
       "      <td>276726</td>\n",
       "      <td>0155061224</td>\n",
       "      <td>5</td>\n",
       "    </tr>\n",
       "    <tr>\n",
       "      <th>2</th>\n",
       "      <td>276727</td>\n",
       "      <td>0446520802</td>\n",
       "      <td>0</td>\n",
       "    </tr>\n",
       "  </tbody>\n",
       "</table>\n",
       "</div>"
      ],
      "text/plain": [
       "   UserID        ISBN  BookRating\n",
       "0  276725  034545104X           0\n",
       "1  276726  0155061224           5\n",
       "2  276727  0446520802           0"
      ]
     },
     "execution_count": 5,
     "metadata": {},
     "output_type": "execute_result"
    }
   ],
   "source": [
    "ratings.head(3)"
   ]
  },
  {
   "cell_type": "code",
   "execution_count": 6,
   "id": "07287336-8c1a-460b-a5af-cac3796262f6",
   "metadata": {},
   "outputs": [
    {
     "data": {
      "text/html": [
       "<div>\n",
       "<style scoped>\n",
       "    .dataframe tbody tr th:only-of-type {\n",
       "        vertical-align: middle;\n",
       "    }\n",
       "\n",
       "    .dataframe tbody tr th {\n",
       "        vertical-align: top;\n",
       "    }\n",
       "\n",
       "    .dataframe thead th {\n",
       "        text-align: right;\n",
       "    }\n",
       "</style>\n",
       "<table border=\"1\" class=\"dataframe\">\n",
       "  <thead>\n",
       "    <tr style=\"text-align: right;\">\n",
       "      <th></th>\n",
       "      <th>UserID</th>\n",
       "      <th>Location</th>\n",
       "      <th>Age</th>\n",
       "    </tr>\n",
       "  </thead>\n",
       "  <tbody>\n",
       "    <tr>\n",
       "      <th>0</th>\n",
       "      <td>1</td>\n",
       "      <td>nyc, new york, usa</td>\n",
       "      <td>NaN</td>\n",
       "    </tr>\n",
       "    <tr>\n",
       "      <th>1</th>\n",
       "      <td>2</td>\n",
       "      <td>stockton, california, usa</td>\n",
       "      <td>18.0</td>\n",
       "    </tr>\n",
       "    <tr>\n",
       "      <th>2</th>\n",
       "      <td>3</td>\n",
       "      <td>moscow, yukon territory, russia</td>\n",
       "      <td>NaN</td>\n",
       "    </tr>\n",
       "  </tbody>\n",
       "</table>\n",
       "</div>"
      ],
      "text/plain": [
       "   UserID                         Location   Age\n",
       "0       1               nyc, new york, usa   NaN\n",
       "1       2        stockton, california, usa  18.0\n",
       "2       3  moscow, yukon territory, russia   NaN"
      ]
     },
     "execution_count": 6,
     "metadata": {},
     "output_type": "execute_result"
    }
   ],
   "source": [
    "users.head(3)"
   ]
  },
  {
   "cell_type": "markdown",
   "id": "38c05783-5fdf-4dee-8af0-9f62d2d21340",
   "metadata": {},
   "source": [
    "DATA CLEANING"
   ]
  },
  {
   "cell_type": "code",
   "execution_count": 7,
   "id": "5936ae04-e941-40dc-bd9b-079485c4edd2",
   "metadata": {},
   "outputs": [],
   "source": [
    "# books.shape"
   ]
  },
  {
   "cell_type": "code",
   "execution_count": 8,
   "id": "93c9edff-981a-4c4f-8dbf-fb332879723d",
   "metadata": {},
   "outputs": [],
   "source": [
    "# ratings.shape"
   ]
  },
  {
   "cell_type": "code",
   "execution_count": 9,
   "id": "25df8825-846f-4043-b79b-debe1d69fe23",
   "metadata": {},
   "outputs": [],
   "source": [
    "# users.shape"
   ]
  },
  {
   "cell_type": "code",
   "execution_count": 10,
   "id": "5067bd36-b459-4a1d-980c-2fafce99ac5e",
   "metadata": {},
   "outputs": [
    {
     "data": {
      "text/plain": [
       "ISBN                 0\n",
       "BookTitle            0\n",
       "BookAuthor           2\n",
       "YearOfPublication    0\n",
       "Publisher            2\n",
       "ImageURLS            0\n",
       "ImageURLM            0\n",
       "ImageURLL            3\n",
       "dtype: int64"
      ]
     },
     "execution_count": 10,
     "metadata": {},
     "output_type": "execute_result"
    }
   ],
   "source": [
    "# missing values\n",
    "books.isnull().sum()"
   ]
  },
  {
   "cell_type": "code",
   "execution_count": 11,
   "id": "1652c8c8-09f0-4298-9cb3-e8f5474ae10b",
   "metadata": {},
   "outputs": [
    {
     "data": {
      "text/html": [
       "<div>\n",
       "<style scoped>\n",
       "    .dataframe tbody tr th:only-of-type {\n",
       "        vertical-align: middle;\n",
       "    }\n",
       "\n",
       "    .dataframe tbody tr th {\n",
       "        vertical-align: top;\n",
       "    }\n",
       "\n",
       "    .dataframe thead th {\n",
       "        text-align: right;\n",
       "    }\n",
       "</style>\n",
       "<table border=\"1\" class=\"dataframe\">\n",
       "  <thead>\n",
       "    <tr style=\"text-align: right;\">\n",
       "      <th></th>\n",
       "      <th>ISBN</th>\n",
       "      <th>BookTitle</th>\n",
       "      <th>BookAuthor</th>\n",
       "      <th>YearOfPublication</th>\n",
       "      <th>Publisher</th>\n",
       "      <th>ImageURLS</th>\n",
       "      <th>ImageURLM</th>\n",
       "      <th>ImageURLL</th>\n",
       "    </tr>\n",
       "  </thead>\n",
       "  <tbody>\n",
       "    <tr>\n",
       "      <th>118033</th>\n",
       "      <td>0751352497</td>\n",
       "      <td>A+ Quiz Masters:01 Earth</td>\n",
       "      <td>NaN</td>\n",
       "      <td>1999</td>\n",
       "      <td>Dorling Kindersley</td>\n",
       "      <td>http://images.amazon.com/images/P/0751352497.0...</td>\n",
       "      <td>http://images.amazon.com/images/P/0751352497.0...</td>\n",
       "      <td>http://images.amazon.com/images/P/0751352497.0...</td>\n",
       "    </tr>\n",
       "    <tr>\n",
       "      <th>187689</th>\n",
       "      <td>9627982032</td>\n",
       "      <td>The Credit Suisse Guide to Managing Your Perso...</td>\n",
       "      <td>NaN</td>\n",
       "      <td>1995</td>\n",
       "      <td>Edinburgh Financial Publishing</td>\n",
       "      <td>http://images.amazon.com/images/P/9627982032.0...</td>\n",
       "      <td>http://images.amazon.com/images/P/9627982032.0...</td>\n",
       "      <td>http://images.amazon.com/images/P/9627982032.0...</td>\n",
       "    </tr>\n",
       "  </tbody>\n",
       "</table>\n",
       "</div>"
      ],
      "text/plain": [
       "              ISBN                                          BookTitle  \\\n",
       "118033  0751352497                           A+ Quiz Masters:01 Earth   \n",
       "187689  9627982032  The Credit Suisse Guide to Managing Your Perso...   \n",
       "\n",
       "       BookAuthor YearOfPublication                       Publisher  \\\n",
       "118033        NaN              1999              Dorling Kindersley   \n",
       "187689        NaN              1995  Edinburgh Financial Publishing   \n",
       "\n",
       "                                                ImageURLS  \\\n",
       "118033  http://images.amazon.com/images/P/0751352497.0...   \n",
       "187689  http://images.amazon.com/images/P/9627982032.0...   \n",
       "\n",
       "                                                ImageURLM  \\\n",
       "118033  http://images.amazon.com/images/P/0751352497.0...   \n",
       "187689  http://images.amazon.com/images/P/9627982032.0...   \n",
       "\n",
       "                                                ImageURLL  \n",
       "118033  http://images.amazon.com/images/P/0751352497.0...  \n",
       "187689  http://images.amazon.com/images/P/9627982032.0...  "
      ]
     },
     "execution_count": 11,
     "metadata": {},
     "output_type": "execute_result"
    }
   ],
   "source": [
    "books.loc[(books['BookAuthor'].isnull()),:]"
   ]
  },
  {
   "cell_type": "code",
   "execution_count": 12,
   "id": "f5eb82a7-5832-4c86-9ce4-c743e92cfd27",
   "metadata": {},
   "outputs": [
    {
     "data": {
      "text/html": [
       "<div>\n",
       "<style scoped>\n",
       "    .dataframe tbody tr th:only-of-type {\n",
       "        vertical-align: middle;\n",
       "    }\n",
       "\n",
       "    .dataframe tbody tr th {\n",
       "        vertical-align: top;\n",
       "    }\n",
       "\n",
       "    .dataframe thead th {\n",
       "        text-align: right;\n",
       "    }\n",
       "</style>\n",
       "<table border=\"1\" class=\"dataframe\">\n",
       "  <thead>\n",
       "    <tr style=\"text-align: right;\">\n",
       "      <th></th>\n",
       "      <th>ISBN</th>\n",
       "      <th>BookTitle</th>\n",
       "      <th>BookAuthor</th>\n",
       "      <th>YearOfPublication</th>\n",
       "      <th>Publisher</th>\n",
       "      <th>ImageURLS</th>\n",
       "      <th>ImageURLM</th>\n",
       "      <th>ImageURLL</th>\n",
       "    </tr>\n",
       "  </thead>\n",
       "  <tbody>\n",
       "    <tr>\n",
       "      <th>128890</th>\n",
       "      <td>193169656X</td>\n",
       "      <td>Tyrant Moon</td>\n",
       "      <td>Elaine Corvidae</td>\n",
       "      <td>2002</td>\n",
       "      <td>NaN</td>\n",
       "      <td>http://images.amazon.com/images/P/193169656X.0...</td>\n",
       "      <td>http://images.amazon.com/images/P/193169656X.0...</td>\n",
       "      <td>http://images.amazon.com/images/P/193169656X.0...</td>\n",
       "    </tr>\n",
       "    <tr>\n",
       "      <th>129037</th>\n",
       "      <td>1931696993</td>\n",
       "      <td>Finders Keepers</td>\n",
       "      <td>Linnea Sinclair</td>\n",
       "      <td>2001</td>\n",
       "      <td>NaN</td>\n",
       "      <td>http://images.amazon.com/images/P/1931696993.0...</td>\n",
       "      <td>http://images.amazon.com/images/P/1931696993.0...</td>\n",
       "      <td>http://images.amazon.com/images/P/1931696993.0...</td>\n",
       "    </tr>\n",
       "  </tbody>\n",
       "</table>\n",
       "</div>"
      ],
      "text/plain": [
       "              ISBN        BookTitle       BookAuthor YearOfPublication  \\\n",
       "128890  193169656X      Tyrant Moon  Elaine Corvidae              2002   \n",
       "129037  1931696993  Finders Keepers  Linnea Sinclair              2001   \n",
       "\n",
       "       Publisher                                          ImageURLS  \\\n",
       "128890       NaN  http://images.amazon.com/images/P/193169656X.0...   \n",
       "129037       NaN  http://images.amazon.com/images/P/1931696993.0...   \n",
       "\n",
       "                                                ImageURLM  \\\n",
       "128890  http://images.amazon.com/images/P/193169656X.0...   \n",
       "129037  http://images.amazon.com/images/P/1931696993.0...   \n",
       "\n",
       "                                                ImageURLL  \n",
       "128890  http://images.amazon.com/images/P/193169656X.0...  \n",
       "129037  http://images.amazon.com/images/P/1931696993.0...  "
      ]
     },
     "execution_count": 12,
     "metadata": {},
     "output_type": "execute_result"
    }
   ],
   "source": [
    "books.loc[(books['Publisher'].isnull()),:]"
   ]
  },
  {
   "cell_type": "code",
   "execution_count": 13,
   "id": "30235338-0a74-4a4f-a11d-873a5d4b0cc3",
   "metadata": {},
   "outputs": [
    {
     "data": {
      "text/plain": [
       "UserID        0\n",
       "ISBN          0\n",
       "BookRating    0\n",
       "dtype: int64"
      ]
     },
     "execution_count": 13,
     "metadata": {},
     "output_type": "execute_result"
    }
   ],
   "source": [
    "ratings.isnull().sum()"
   ]
  },
  {
   "cell_type": "code",
   "execution_count": 14,
   "id": "921f28c8-d90d-4dab-80c5-d453a0cc133b",
   "metadata": {},
   "outputs": [
    {
     "data": {
      "text/plain": [
       "UserID           0\n",
       "Location         0\n",
       "Age         110762\n",
       "dtype: int64"
      ]
     },
     "execution_count": 14,
     "metadata": {},
     "output_type": "execute_result"
    }
   ],
   "source": [
    "users.isnull().sum()"
   ]
  },
  {
   "cell_type": "code",
   "execution_count": 15,
   "id": "73e68519-810a-487f-89a9-c235760bdeb5",
   "metadata": {},
   "outputs": [
    {
     "data": {
      "text/plain": [
       "<bound method Series.sum of 0         False\n",
       "1         False\n",
       "2         False\n",
       "3         False\n",
       "4         False\n",
       "          ...  \n",
       "271355    False\n",
       "271356    False\n",
       "271357    False\n",
       "271358    False\n",
       "271359    False\n",
       "Length: 271360, dtype: bool>"
      ]
     },
     "execution_count": 15,
     "metadata": {},
     "output_type": "execute_result"
    }
   ],
   "source": [
    "books.duplicated().sum\n"
   ]
  },
  {
   "cell_type": "code",
   "execution_count": 16,
   "id": "70edce08-116e-4036-aa29-72d45d8192ad",
   "metadata": {},
   "outputs": [
    {
     "data": {
      "text/plain": [
       "<bound method Series.sum of 0         False\n",
       "1         False\n",
       "2         False\n",
       "3         False\n",
       "4         False\n",
       "          ...  \n",
       "278853    False\n",
       "278854    False\n",
       "278855    False\n",
       "278856    False\n",
       "278857    False\n",
       "Length: 278858, dtype: bool>"
      ]
     },
     "execution_count": 16,
     "metadata": {},
     "output_type": "execute_result"
    }
   ],
   "source": [
    "users.duplicated().sum"
   ]
  },
  {
   "cell_type": "code",
   "execution_count": 17,
   "id": "e0bed9a2-c13e-4605-bf8e-41fa4b541914",
   "metadata": {},
   "outputs": [
    {
     "data": {
      "text/plain": [
       "<bound method Series.sum of 0          False\n",
       "1          False\n",
       "2          False\n",
       "3          False\n",
       "4          False\n",
       "           ...  \n",
       "1149775    False\n",
       "1149776    False\n",
       "1149777    False\n",
       "1149778    False\n",
       "1149779    False\n",
       "Length: 1149780, dtype: bool>"
      ]
     },
     "execution_count": 17,
     "metadata": {},
     "output_type": "execute_result"
    }
   ],
   "source": [
    "ratings.duplicated().sum"
   ]
  },
  {
   "cell_type": "markdown",
   "id": "af497f2f-43c8-4924-843d-d6704b21f4e9",
   "metadata": {},
   "source": [
    "# books data\n"
   ]
  },
  {
   "cell_type": "code",
   "execution_count": 18,
   "id": "6b3254c0-abe4-4dcf-821d-b5aba477b2c3",
   "metadata": {},
   "outputs": [
    {
     "name": "stdout",
     "output_type": "stream",
     "text": [
      "<class 'pandas.core.frame.DataFrame'>\n",
      "RangeIndex: 271360 entries, 0 to 271359\n",
      "Data columns (total 8 columns):\n",
      " #   Column             Non-Null Count   Dtype \n",
      "---  ------             --------------   ----- \n",
      " 0   ISBN               271360 non-null  object\n",
      " 1   BookTitle          271360 non-null  object\n",
      " 2   BookAuthor         271358 non-null  object\n",
      " 3   YearOfPublication  271360 non-null  object\n",
      " 4   Publisher          271358 non-null  object\n",
      " 5   ImageURLS          271360 non-null  object\n",
      " 6   ImageURLM          271360 non-null  object\n",
      " 7   ImageURLL          271357 non-null  object\n",
      "dtypes: object(8)\n",
      "memory usage: 16.6+ MB\n"
     ]
    }
   ],
   "source": [
    "books.info()"
   ]
  },
  {
   "cell_type": "code",
   "execution_count": 19,
   "id": "d8248900-4596-42f5-a3ef-46952c8d7226",
   "metadata": {},
   "outputs": [],
   "source": [
    "# drop image url\n",
    "books.drop(['ImageURLS', 'ImageURLL'],axis=1,inplace=True)"
   ]
  },
  {
   "cell_type": "code",
   "execution_count": 20,
   "id": "69650c9d-60ce-4b7e-9493-c7d36af6819c",
   "metadata": {},
   "outputs": [
    {
     "data": {
      "text/plain": [
       "array(['2002', '2001', '1991', '1999', '2000', '1993', '1996', '1988',\n",
       "       '2004', '1998', '1994', '2003', '1997', '1983', '1979', '1995',\n",
       "       '1982', '1985', '1992', '1986', '1978', '1980', '1952', '1987',\n",
       "       '1990', '1981', '1989', '1984', '0', '1968', '1961', '1958',\n",
       "       '1974', '1976', '1971', '1977', '1975', '1965', '1941', '1970',\n",
       "       '1962', '1973', '1972', '1960', '1966', '1920', '1956', '1959',\n",
       "       '1953', '1951', '1942', '1963', '1964', '1969', '1954', '1950',\n",
       "       '1967', '2005', '1957', '1940', '1937', '1955', '1946', '1936',\n",
       "       '1930', '2011', '1925', '1948', '1943', '1947', '1945', '1923',\n",
       "       '2020', '1939', '1926', '1938', '2030', '1911', '1904', '1949',\n",
       "       '1932', '1928', '1929', '1927', '1931', '1914', '2050', '1934',\n",
       "       '1910', '1933', '1902', '1924', '1921', '1900', '2038', '2026',\n",
       "       '1944', '1917', '1901', '2010', '1908', '1906', '1935', '1806',\n",
       "       '2021', '2012', '2006', 'DK Publishing Inc', 'Gallimard', '1909',\n",
       "       '2008', '1378', '1919', '1922', '1897', '2024', '1376', '2037'],\n",
       "      dtype=object)"
      ]
     },
     "execution_count": 20,
     "metadata": {},
     "output_type": "execute_result"
    }
   ],
   "source": [
    "books.YearOfPublication.unique()"
   ]
  },
  {
   "cell_type": "code",
   "execution_count": 21,
   "id": "6d122ef7-90a2-4ad0-9e59-42e4564acfe2",
   "metadata": {},
   "outputs": [],
   "source": [
    "# books.BookTitle.unique()"
   ]
  },
  {
   "cell_type": "code",
   "execution_count": 22,
   "id": "8156ba1e-4963-43da-b602-446583f8e788",
   "metadata": {},
   "outputs": [],
   "source": [
    "# books.BookAuthor.unique()"
   ]
  },
  {
   "cell_type": "code",
   "execution_count": 23,
   "id": "4854624e-d2bf-42c0-bad0-a3e182526113",
   "metadata": {},
   "outputs": [],
   "source": [
    "# books.Publisher.unique()"
   ]
  },
  {
   "cell_type": "code",
   "execution_count": 24,
   "id": "40dcf277-941b-4799-8161-63fad276731a",
   "metadata": {},
   "outputs": [],
   "source": [
    "# books.ISBN.unique()"
   ]
  },
  {
   "cell_type": "code",
   "execution_count": 25,
   "id": "cab9911c-f604-40d4-b146-da3b7525b6f0",
   "metadata": {},
   "outputs": [
    {
     "data": {
      "text/html": [
       "<div>\n",
       "<style scoped>\n",
       "    .dataframe tbody tr th:only-of-type {\n",
       "        vertical-align: middle;\n",
       "    }\n",
       "\n",
       "    .dataframe tbody tr th {\n",
       "        vertical-align: top;\n",
       "    }\n",
       "\n",
       "    .dataframe thead th {\n",
       "        text-align: right;\n",
       "    }\n",
       "</style>\n",
       "<table border=\"1\" class=\"dataframe\">\n",
       "  <thead>\n",
       "    <tr style=\"text-align: right;\">\n",
       "      <th></th>\n",
       "      <th>ISBN</th>\n",
       "      <th>BookTitle</th>\n",
       "      <th>BookAuthor</th>\n",
       "      <th>YearOfPublication</th>\n",
       "      <th>Publisher</th>\n",
       "      <th>ImageURLM</th>\n",
       "    </tr>\n",
       "  </thead>\n",
       "  <tbody>\n",
       "    <tr>\n",
       "      <th>209538</th>\n",
       "      <td>078946697X</td>\n",
       "      <td>DK Readers: Creating the X-Men, How It All Beg...</td>\n",
       "      <td>2000</td>\n",
       "      <td>DK Publishing Inc</td>\n",
       "      <td>http://images.amazon.com/images/P/078946697X.0...</td>\n",
       "      <td>http://images.amazon.com/images/P/078946697X.0...</td>\n",
       "    </tr>\n",
       "    <tr>\n",
       "      <th>221678</th>\n",
       "      <td>0789466953</td>\n",
       "      <td>DK Readers: Creating the X-Men, How Comic Book...</td>\n",
       "      <td>2000</td>\n",
       "      <td>DK Publishing Inc</td>\n",
       "      <td>http://images.amazon.com/images/P/0789466953.0...</td>\n",
       "      <td>http://images.amazon.com/images/P/0789466953.0...</td>\n",
       "    </tr>\n",
       "  </tbody>\n",
       "</table>\n",
       "</div>"
      ],
      "text/plain": [
       "              ISBN                                          BookTitle  \\\n",
       "209538  078946697X  DK Readers: Creating the X-Men, How It All Beg...   \n",
       "221678  0789466953  DK Readers: Creating the X-Men, How Comic Book...   \n",
       "\n",
       "       BookAuthor  YearOfPublication  \\\n",
       "209538       2000  DK Publishing Inc   \n",
       "221678       2000  DK Publishing Inc   \n",
       "\n",
       "                                                Publisher  \\\n",
       "209538  http://images.amazon.com/images/P/078946697X.0...   \n",
       "221678  http://images.amazon.com/images/P/0789466953.0...   \n",
       "\n",
       "                                                ImageURLM  \n",
       "209538  http://images.amazon.com/images/P/078946697X.0...  \n",
       "221678  http://images.amazon.com/images/P/0789466953.0...  "
      ]
     },
     "execution_count": 25,
     "metadata": {},
     "output_type": "execute_result"
    }
   ],
   "source": [
    "books.loc[books.YearOfPublication=='DK Publishing Inc',:]"
   ]
  },
  {
   "cell_type": "code",
   "execution_count": 26,
   "id": "5fec2d4e-57e6-4c91-bbd7-3ad93e5e45e9",
   "metadata": {},
   "outputs": [
    {
     "data": {
      "text/html": [
       "<div>\n",
       "<style scoped>\n",
       "    .dataframe tbody tr th:only-of-type {\n",
       "        vertical-align: middle;\n",
       "    }\n",
       "\n",
       "    .dataframe tbody tr th {\n",
       "        vertical-align: top;\n",
       "    }\n",
       "\n",
       "    .dataframe thead th {\n",
       "        text-align: right;\n",
       "    }\n",
       "</style>\n",
       "<table border=\"1\" class=\"dataframe\">\n",
       "  <thead>\n",
       "    <tr style=\"text-align: right;\">\n",
       "      <th></th>\n",
       "      <th>ISBN</th>\n",
       "      <th>BookTitle</th>\n",
       "      <th>BookAuthor</th>\n",
       "      <th>YearOfPublication</th>\n",
       "      <th>Publisher</th>\n",
       "      <th>ImageURLM</th>\n",
       "    </tr>\n",
       "  </thead>\n",
       "  <tbody>\n",
       "    <tr>\n",
       "      <th>220731</th>\n",
       "      <td>2070426769</td>\n",
       "      <td>Peuple du ciel, suivi de 'Les Bergers\\\";Jean-M...</td>\n",
       "      <td>2003</td>\n",
       "      <td>Gallimard</td>\n",
       "      <td>http://images.amazon.com/images/P/2070426769.0...</td>\n",
       "      <td>http://images.amazon.com/images/P/2070426769.0...</td>\n",
       "    </tr>\n",
       "  </tbody>\n",
       "</table>\n",
       "</div>"
      ],
      "text/plain": [
       "              ISBN                                          BookTitle  \\\n",
       "220731  2070426769  Peuple du ciel, suivi de 'Les Bergers\\\";Jean-M...   \n",
       "\n",
       "       BookAuthor YearOfPublication  \\\n",
       "220731       2003         Gallimard   \n",
       "\n",
       "                                                Publisher  \\\n",
       "220731  http://images.amazon.com/images/P/2070426769.0...   \n",
       "\n",
       "                                                ImageURLM  \n",
       "220731  http://images.amazon.com/images/P/2070426769.0...  "
      ]
     },
     "execution_count": 26,
     "metadata": {},
     "output_type": "execute_result"
    }
   ],
   "source": [
    "books.loc[books.YearOfPublication=='Gallimard',:]"
   ]
  },
  {
   "cell_type": "code",
   "execution_count": 27,
   "id": "f5527a9b-9d17-4360-96e3-ec312e08e074",
   "metadata": {},
   "outputs": [],
   "source": [
    "# make some corrections for Gallimard And DK publishing"
   ]
  },
  {
   "cell_type": "code",
   "execution_count": 28,
   "id": "1fcf6163-a2ed-4703-a5a2-b551aabbacf0",
   "metadata": {},
   "outputs": [
    {
     "data": {
      "text/plain": [
       "ISBN                                                        078946697X\n",
       "BookTitle            DK Readers: Creating the X-Men, How It All Beg...\n",
       "BookAuthor                                                        2000\n",
       "YearOfPublication                                    DK Publishing Inc\n",
       "Publisher            http://images.amazon.com/images/P/078946697X.0...\n",
       "ImageURLM            http://images.amazon.com/images/P/078946697X.0...\n",
       "Name: 209538, dtype: object"
      ]
     },
     "execution_count": 28,
     "metadata": {},
     "output_type": "execute_result"
    }
   ],
   "source": [
    "books.loc[209538]"
   ]
  },
  {
   "cell_type": "code",
   "execution_count": 29,
   "id": "0c40bc7d-be3d-4d47-9e94-3497398e0dd5",
   "metadata": {},
   "outputs": [
    {
     "data": {
      "text/plain": [
       "ISBN                                                        0789466953\n",
       "BookTitle            DK Readers: Creating the X-Men, How Comic Book...\n",
       "BookAuthor                                                        2000\n",
       "YearOfPublication                                    DK Publishing Inc\n",
       "Publisher            http://images.amazon.com/images/P/0789466953.0...\n",
       "ImageURLM            http://images.amazon.com/images/P/0789466953.0...\n",
       "Name: 221678, dtype: object"
      ]
     },
     "execution_count": 29,
     "metadata": {},
     "output_type": "execute_result"
    }
   ],
   "source": [
    "books.loc[221678]"
   ]
  },
  {
   "cell_type": "code",
   "execution_count": 30,
   "id": "4dfc2bd1-e61e-4168-b831-bd2c9b7c7f0b",
   "metadata": {},
   "outputs": [
    {
     "data": {
      "text/plain": [
       "ISBN                                                        2070426769\n",
       "BookTitle            Peuple du ciel, suivi de 'Les Bergers\\\";Jean-M...\n",
       "BookAuthor                                                        2003\n",
       "YearOfPublication                                            Gallimard\n",
       "Publisher            http://images.amazon.com/images/P/2070426769.0...\n",
       "ImageURLM            http://images.amazon.com/images/P/2070426769.0...\n",
       "Name: 220731, dtype: object"
      ]
     },
     "execution_count": 30,
     "metadata": {},
     "output_type": "execute_result"
    }
   ],
   "source": [
    "books.loc[220731]"
   ]
  },
  {
   "cell_type": "code",
   "execution_count": 31,
   "id": "95d37b61-c788-4e0d-b5b7-16bb023df3e6",
   "metadata": {},
   "outputs": [],
   "source": [
    "# books.head()"
   ]
  },
  {
   "cell_type": "code",
   "execution_count": 32,
   "id": "35474ee6-29a7-4449-b5b2-dac32d2fc10a",
   "metadata": {},
   "outputs": [],
   "source": [
    "# for replacing values:\n",
    "# 209538\n",
    "books.at[209538,'Publisher']='DK Publishing Inc'\n",
    "books.at[209538,'YearOfPublication']=2000\n",
    "books.at[209538,'BookAuthor']='Michael Teitelbaum'\n",
    "books.at[209538,'BookTitle']='DK Readers: Creating the X-Men, How It All Beg...'\n",
    "\n",
    "# 221678\n",
    "books.at[221678,'Publisher']='DK Publishing Inc'\n",
    "books.at[221678,'YearOfPublication']=2000\n",
    "books.at[221678,'BookAuthor']='James Buckley'\n",
    "books.at[221678,'BookTitle']=' DK Readers: Creating the X-Men, How Comic Book... '\n",
    "\n",
    "# 220731\n",
    "books.at[220731,'Publisher']='Gallimard'\n",
    "books.at[220731,'YearOfPublication']=2003\n",
    "books.at[220731,'BookAuthor']='Jean-Marie Gustave Le '\n",
    "books.at[220731,'BookTitle']='Peuple du ciel, suivi de Les Bergers'"
   ]
  },
  {
   "cell_type": "code",
   "execution_count": 33,
   "id": "538893e0-f689-4a2b-939a-31a70892578b",
   "metadata": {},
   "outputs": [],
   "source": [
    "df=pd.DataFrame(books)"
   ]
  },
  {
   "cell_type": "code",
   "execution_count": null,
   "id": "2f937da4-4f24-476f-9acc-c20c347fa6d1",
   "metadata": {},
   "outputs": [],
   "source": []
  },
  {
   "cell_type": "markdown",
   "id": "f1aa510c-f3dd-4d62-8419-5c1dae1e7ab0",
   "metadata": {
    "jp-MarkdownHeadingCollapsed": true
   },
   "source": [
    "# users data"
   ]
  },
  {
   "cell_type": "code",
   "execution_count": 34,
   "id": "b07a8615-0f84-4752-985c-4d0c77cf67d9",
   "metadata": {},
   "outputs": [
    {
     "data": {
      "text/plain": [
       "(278858, 3)"
      ]
     },
     "execution_count": 34,
     "metadata": {},
     "output_type": "execute_result"
    }
   ],
   "source": [
    "users.shape"
   ]
  },
  {
   "cell_type": "code",
   "execution_count": 35,
   "id": "2bcb21f3-ae2c-47c1-ab45-b026651b447a",
   "metadata": {},
   "outputs": [
    {
     "data": {
      "text/html": [
       "<div>\n",
       "<style scoped>\n",
       "    .dataframe tbody tr th:only-of-type {\n",
       "        vertical-align: middle;\n",
       "    }\n",
       "\n",
       "    .dataframe tbody tr th {\n",
       "        vertical-align: top;\n",
       "    }\n",
       "\n",
       "    .dataframe thead th {\n",
       "        text-align: right;\n",
       "    }\n",
       "</style>\n",
       "<table border=\"1\" class=\"dataframe\">\n",
       "  <thead>\n",
       "    <tr style=\"text-align: right;\">\n",
       "      <th></th>\n",
       "      <th>UserID</th>\n",
       "      <th>Location</th>\n",
       "      <th>Age</th>\n",
       "    </tr>\n",
       "  </thead>\n",
       "  <tbody>\n",
       "    <tr>\n",
       "      <th>0</th>\n",
       "      <td>1</td>\n",
       "      <td>nyc, new york, usa</td>\n",
       "      <td>NaN</td>\n",
       "    </tr>\n",
       "    <tr>\n",
       "      <th>1</th>\n",
       "      <td>2</td>\n",
       "      <td>stockton, california, usa</td>\n",
       "      <td>18.0</td>\n",
       "    </tr>\n",
       "    <tr>\n",
       "      <th>2</th>\n",
       "      <td>3</td>\n",
       "      <td>moscow, yukon territory, russia</td>\n",
       "      <td>NaN</td>\n",
       "    </tr>\n",
       "    <tr>\n",
       "      <th>3</th>\n",
       "      <td>4</td>\n",
       "      <td>porto, v.n.gaia, portugal</td>\n",
       "      <td>17.0</td>\n",
       "    </tr>\n",
       "    <tr>\n",
       "      <th>4</th>\n",
       "      <td>5</td>\n",
       "      <td>farnborough, hants, united kingdom</td>\n",
       "      <td>NaN</td>\n",
       "    </tr>\n",
       "  </tbody>\n",
       "</table>\n",
       "</div>"
      ],
      "text/plain": [
       "   UserID                            Location   Age\n",
       "0       1                  nyc, new york, usa   NaN\n",
       "1       2           stockton, california, usa  18.0\n",
       "2       3     moscow, yukon territory, russia   NaN\n",
       "3       4           porto, v.n.gaia, portugal  17.0\n",
       "4       5  farnborough, hants, united kingdom   NaN"
      ]
     },
     "execution_count": 35,
     "metadata": {},
     "output_type": "execute_result"
    }
   ],
   "source": [
    "users.head()"
   ]
  },
  {
   "cell_type": "code",
   "execution_count": 36,
   "id": "774221da-5f3b-47ef-8cc6-aa3db855b908",
   "metadata": {},
   "outputs": [
    {
     "data": {
      "text/plain": [
       "array([ nan,  18.,  17.,  61.,  26.,  14.,  25.,  19.,  46.,  55.,  32.,\n",
       "        24.,  20.,  34.,  23.,  51.,  31.,  21.,  44.,  30.,  57.,  43.,\n",
       "        37.,  41.,  54.,  42.,  50.,  39.,  53.,  47.,  36.,  28.,  35.,\n",
       "        13.,  58.,  49.,  38.,  45.,  62.,  63.,  27.,  33.,  29.,  66.,\n",
       "        40.,  15.,  60.,   0.,  79.,  22.,  16.,  65.,  59.,  48.,  72.,\n",
       "        56.,  67.,   1.,  80.,  52.,  69.,  71.,  73.,  78.,   9.,  64.,\n",
       "       103., 104.,  12.,  74.,  75., 231.,   3.,  76.,  83.,  68., 119.,\n",
       "        11.,  77.,   2.,  70.,  93.,   8.,   7.,   4.,  81., 114., 230.,\n",
       "       239.,  10.,   5., 148., 151.,   6., 101., 201.,  96.,  84.,  82.,\n",
       "        90., 123., 244., 133.,  91., 128.,  94.,  85., 141., 110.,  97.,\n",
       "       219.,  86., 124.,  92., 175., 172., 209., 212., 237.,  87., 162.,\n",
       "       100., 156., 136.,  95.,  89., 106.,  99., 108., 210.,  88., 199.,\n",
       "       147., 168., 132., 159., 186., 152., 102., 116., 200., 115., 226.,\n",
       "       137., 207., 229., 138., 109., 105., 228., 183., 204.,  98., 223.,\n",
       "       113., 208., 107., 157., 111., 146., 118., 220., 143., 140., 189.,\n",
       "       127.])"
      ]
     },
     "execution_count": 36,
     "metadata": {},
     "output_type": "execute_result"
    }
   ],
   "source": [
    "users['Age'].unique()"
   ]
  },
  {
   "cell_type": "code",
   "execution_count": 37,
   "id": "fd704b88-99a0-4262-ab08-9b1ab6df3558",
   "metadata": {},
   "outputs": [
    {
     "name": "stderr",
     "output_type": "stream",
     "text": [
      "C:\\Users\\AKASH SHARMA\\AppData\\Local\\Temp\\ipykernel_9292\\1007415662.py:2: FutureWarning: A value is trying to be set on a copy of a DataFrame or Series through chained assignment using an inplace method.\n",
      "The behavior will change in pandas 3.0. This inplace method will never work because the intermediate object on which we are setting values always behaves as a copy.\n",
      "\n",
      "For example, when doing 'df[col].method(value, inplace=True)', try using 'df.method({col: value}, inplace=True)' or df[col] = df[col].method(value) instead, to perform the operation inplace on the original object.\n",
      "\n",
      "\n",
      "  users['Age'].fillna((users['Age'].mean()),inplace=True)\n"
     ]
    }
   ],
   "source": [
    "# replace nan values by mean age\n",
    "users['Age'].fillna((users['Age'].mean()),inplace=True)"
   ]
  },
  {
   "cell_type": "code",
   "execution_count": 38,
   "id": "3cef8198-fdc4-49cf-9da2-9e82c3138953",
   "metadata": {},
   "outputs": [
    {
     "data": {
      "text/plain": [
       "array([ 34.7514337,  18.       ,  17.       ,  61.       ,  26.       ,\n",
       "        14.       ,  25.       ,  19.       ,  46.       ,  55.       ,\n",
       "        32.       ,  24.       ,  20.       ,  34.       ,  23.       ,\n",
       "        51.       ,  31.       ,  21.       ,  44.       ,  30.       ,\n",
       "        57.       ,  43.       ,  37.       ,  41.       ,  54.       ,\n",
       "        42.       ,  50.       ,  39.       ,  53.       ,  47.       ,\n",
       "        36.       ,  28.       ,  35.       ,  13.       ,  58.       ,\n",
       "        49.       ,  38.       ,  45.       ,  62.       ,  63.       ,\n",
       "        27.       ,  33.       ,  29.       ,  66.       ,  40.       ,\n",
       "        15.       ,  60.       ,   0.       ,  79.       ,  22.       ,\n",
       "        16.       ,  65.       ,  59.       ,  48.       ,  72.       ,\n",
       "        56.       ,  67.       ,   1.       ,  80.       ,  52.       ,\n",
       "        69.       ,  71.       ,  73.       ,  78.       ,   9.       ,\n",
       "        64.       , 103.       , 104.       ,  12.       ,  74.       ,\n",
       "        75.       , 231.       ,   3.       ,  76.       ,  83.       ,\n",
       "        68.       , 119.       ,  11.       ,  77.       ,   2.       ,\n",
       "        70.       ,  93.       ,   8.       ,   7.       ,   4.       ,\n",
       "        81.       , 114.       , 230.       , 239.       ,  10.       ,\n",
       "         5.       , 148.       , 151.       ,   6.       , 101.       ,\n",
       "       201.       ,  96.       ,  84.       ,  82.       ,  90.       ,\n",
       "       123.       , 244.       , 133.       ,  91.       , 128.       ,\n",
       "        94.       ,  85.       , 141.       , 110.       ,  97.       ,\n",
       "       219.       ,  86.       , 124.       ,  92.       , 175.       ,\n",
       "       172.       , 209.       , 212.       , 237.       ,  87.       ,\n",
       "       162.       , 100.       , 156.       , 136.       ,  95.       ,\n",
       "        89.       , 106.       ,  99.       , 108.       , 210.       ,\n",
       "        88.       , 199.       , 147.       , 168.       , 132.       ,\n",
       "       159.       , 186.       , 152.       , 102.       , 116.       ,\n",
       "       200.       , 115.       , 226.       , 137.       , 207.       ,\n",
       "       229.       , 138.       , 109.       , 105.       , 228.       ,\n",
       "       183.       , 204.       ,  98.       , 223.       , 113.       ,\n",
       "       208.       , 107.       , 157.       , 111.       , 146.       ,\n",
       "       118.       , 220.       , 143.       , 140.       , 189.       ,\n",
       "       127.       ])"
      ]
     },
     "execution_count": 38,
     "metadata": {},
     "output_type": "execute_result"
    }
   ],
   "source": [
    "users['Age'].unique()\n"
   ]
  },
  {
   "cell_type": "code",
   "execution_count": 39,
   "id": "f1faabe9-c0de-4991-9d22-c7086f4df29c",
   "metadata": {},
   "outputs": [
    {
     "data": {
      "text/plain": [
       "UserID      0\n",
       "Location    0\n",
       "Age         0\n",
       "dtype: int64"
      ]
     },
     "execution_count": 39,
     "metadata": {},
     "output_type": "execute_result"
    }
   ],
   "source": [
    "users.isnull().sum()"
   ]
  },
  {
   "cell_type": "code",
   "execution_count": 40,
   "id": "3a27ef0e-f3ef-4b84-a10b-d04f1e37f62d",
   "metadata": {},
   "outputs": [
    {
     "name": "stderr",
     "output_type": "stream",
     "text": [
      "C:\\Users\\AKASH SHARMA\\AppData\\Local\\Temp\\ipykernel_9292\\3294486706.py:2: FutureWarning: ChainedAssignmentError: behaviour will change in pandas 3.0!\n",
      "You are setting values through chained assignment. Currently this works in certain cases, but when using Copy-on-Write (which will become the default behaviour in pandas 3.0) this will never work to update the original DataFrame or Series, because the intermediate object on which we are setting values will behave as a copy.\n",
      "A typical example is when you are setting values in a column of a DataFrame, like:\n",
      "\n",
      "df[\"col\"][row_indexer] = value\n",
      "\n",
      "Use `df.loc[row_indexer, \"col\"] = values` instead, to perform the assignment in a single step and ensure this keeps updating the original `df`.\n",
      "\n",
      "See the caveats in the documentation: https://pandas.pydata.org/pandas-docs/stable/user_guide/indexing.html#returning-a-view-versus-a-copy\n",
      "\n",
      "  users['Age'].loc[(users['Age']>90)|(users['Age']<5)]=np.nan\n",
      "C:\\Users\\AKASH SHARMA\\AppData\\Local\\Temp\\ipykernel_9292\\3294486706.py:2: SettingWithCopyWarning: \n",
      "A value is trying to be set on a copy of a slice from a DataFrame\n",
      "\n",
      "See the caveats in the documentation: https://pandas.pydata.org/pandas-docs/stable/user_guide/indexing.html#returning-a-view-versus-a-copy\n",
      "  users['Age'].loc[(users['Age']>90)|(users['Age']<5)]=np.nan\n"
     ]
    }
   ],
   "source": [
    "# retreiving age between 5 to 90\n",
    "users['Age'].loc[(users['Age']>90)|(users['Age']<5)]=np.nan"
   ]
  },
  {
   "cell_type": "code",
   "execution_count": 41,
   "id": "bb7c0acb-ea7f-4f49-a12d-18fc5e3ec21c",
   "metadata": {},
   "outputs": [
    {
     "name": "stderr",
     "output_type": "stream",
     "text": [
      "C:\\Users\\AKASH SHARMA\\AppData\\Local\\Temp\\ipykernel_9292\\3991420478.py:1: FutureWarning: A value is trying to be set on a copy of a DataFrame or Series through chained assignment using an inplace method.\n",
      "The behavior will change in pandas 3.0. This inplace method will never work because the intermediate object on which we are setting values always behaves as a copy.\n",
      "\n",
      "For example, when doing 'df[col].method(value, inplace=True)', try using 'df.method({col: value}, inplace=True)' or df[col] = df[col].method(value) instead, to perform the operation inplace on the original object.\n",
      "\n",
      "\n",
      "  users['Age'].fillna((users['Age'].mean()),inplace=True)\n"
     ]
    }
   ],
   "source": [
    "users['Age'].fillna((users['Age'].mean()),inplace=True)"
   ]
  },
  {
   "cell_type": "code",
   "execution_count": 42,
   "id": "c721c8e1-9d4b-4f92-83a6-e50d3aae5b87",
   "metadata": {},
   "outputs": [
    {
     "data": {
      "text/plain": [
       "array([34.7514337 , 18.        , 17.        , 61.        , 26.        ,\n",
       "       14.        , 25.        , 19.        , 46.        , 55.        ,\n",
       "       32.        , 24.        , 20.        , 34.        , 23.        ,\n",
       "       51.        , 31.        , 21.        , 44.        , 30.        ,\n",
       "       57.        , 43.        , 37.        , 41.        , 54.        ,\n",
       "       42.        , 50.        , 39.        , 53.        , 47.        ,\n",
       "       36.        , 28.        , 35.        , 13.        , 58.        ,\n",
       "       49.        , 38.        , 45.        , 62.        , 63.        ,\n",
       "       27.        , 33.        , 29.        , 66.        , 40.        ,\n",
       "       15.        , 60.        , 34.73485224, 79.        , 22.        ,\n",
       "       16.        , 65.        , 59.        , 48.        , 72.        ,\n",
       "       56.        , 67.        , 80.        , 52.        , 69.        ,\n",
       "       71.        , 73.        , 78.        ,  9.        , 64.        ,\n",
       "       12.        , 74.        , 75.        , 76.        , 83.        ,\n",
       "       68.        , 11.        , 77.        , 70.        ,  8.        ,\n",
       "        7.        , 81.        , 10.        ,  5.        ,  6.        ,\n",
       "       84.        , 82.        , 90.        , 85.        , 86.        ,\n",
       "       87.        , 89.        , 88.        ])"
      ]
     },
     "execution_count": 42,
     "metadata": {},
     "output_type": "execute_result"
    }
   ],
   "source": [
    "users['Age'].unique()"
   ]
  },
  {
   "cell_type": "markdown",
   "id": "886f2581-686c-4c64-abce-3547c61afe5c",
   "metadata": {
    "jp-MarkdownHeadingCollapsed": true
   },
   "source": [
    "# Rating data"
   ]
  },
  {
   "cell_type": "code",
   "execution_count": 43,
   "id": "813d1793-67b9-435b-a619-4f35f8c4f7c9",
   "metadata": {},
   "outputs": [
    {
     "data": {
      "text/html": [
       "<div>\n",
       "<style scoped>\n",
       "    .dataframe tbody tr th:only-of-type {\n",
       "        vertical-align: middle;\n",
       "    }\n",
       "\n",
       "    .dataframe tbody tr th {\n",
       "        vertical-align: top;\n",
       "    }\n",
       "\n",
       "    .dataframe thead th {\n",
       "        text-align: right;\n",
       "    }\n",
       "</style>\n",
       "<table border=\"1\" class=\"dataframe\">\n",
       "  <thead>\n",
       "    <tr style=\"text-align: right;\">\n",
       "      <th></th>\n",
       "      <th>UserID</th>\n",
       "      <th>ISBN</th>\n",
       "      <th>BookRating</th>\n",
       "    </tr>\n",
       "  </thead>\n",
       "  <tbody>\n",
       "    <tr>\n",
       "      <th>0</th>\n",
       "      <td>276725</td>\n",
       "      <td>034545104X</td>\n",
       "      <td>0</td>\n",
       "    </tr>\n",
       "    <tr>\n",
       "      <th>1</th>\n",
       "      <td>276726</td>\n",
       "      <td>0155061224</td>\n",
       "      <td>5</td>\n",
       "    </tr>\n",
       "    <tr>\n",
       "      <th>2</th>\n",
       "      <td>276727</td>\n",
       "      <td>0446520802</td>\n",
       "      <td>0</td>\n",
       "    </tr>\n",
       "    <tr>\n",
       "      <th>3</th>\n",
       "      <td>276729</td>\n",
       "      <td>052165615X</td>\n",
       "      <td>3</td>\n",
       "    </tr>\n",
       "    <tr>\n",
       "      <th>4</th>\n",
       "      <td>276729</td>\n",
       "      <td>0521795028</td>\n",
       "      <td>6</td>\n",
       "    </tr>\n",
       "  </tbody>\n",
       "</table>\n",
       "</div>"
      ],
      "text/plain": [
       "   UserID        ISBN  BookRating\n",
       "0  276725  034545104X           0\n",
       "1  276726  0155061224           5\n",
       "2  276727  0446520802           0\n",
       "3  276729  052165615X           3\n",
       "4  276729  0521795028           6"
      ]
     },
     "execution_count": 43,
     "metadata": {},
     "output_type": "execute_result"
    }
   ],
   "source": [
    "ratings.head()"
   ]
  },
  {
   "cell_type": "code",
   "execution_count": 44,
   "id": "0cef9e0e-0da6-4c03-a795-825d372982f3",
   "metadata": {},
   "outputs": [
    {
     "data": {
      "text/html": [
       "<div>\n",
       "<style scoped>\n",
       "    .dataframe tbody tr th:only-of-type {\n",
       "        vertical-align: middle;\n",
       "    }\n",
       "\n",
       "    .dataframe tbody tr th {\n",
       "        vertical-align: top;\n",
       "    }\n",
       "\n",
       "    .dataframe thead th {\n",
       "        text-align: right;\n",
       "    }\n",
       "</style>\n",
       "<table border=\"1\" class=\"dataframe\">\n",
       "  <thead>\n",
       "    <tr style=\"text-align: right;\">\n",
       "      <th></th>\n",
       "      <th>UserID</th>\n",
       "      <th>ISBN</th>\n",
       "      <th>BookRating</th>\n",
       "    </tr>\n",
       "  </thead>\n",
       "  <tbody>\n",
       "    <tr>\n",
       "      <th>0</th>\n",
       "      <td>276725</td>\n",
       "      <td>034545104X</td>\n",
       "      <td>0</td>\n",
       "    </tr>\n",
       "    <tr>\n",
       "      <th>1</th>\n",
       "      <td>276726</td>\n",
       "      <td>0155061224</td>\n",
       "      <td>5</td>\n",
       "    </tr>\n",
       "    <tr>\n",
       "      <th>2</th>\n",
       "      <td>276727</td>\n",
       "      <td>0446520802</td>\n",
       "      <td>0</td>\n",
       "    </tr>\n",
       "    <tr>\n",
       "      <th>3</th>\n",
       "      <td>276729</td>\n",
       "      <td>052165615X</td>\n",
       "      <td>3</td>\n",
       "    </tr>\n",
       "    <tr>\n",
       "      <th>4</th>\n",
       "      <td>276729</td>\n",
       "      <td>0521795028</td>\n",
       "      <td>6</td>\n",
       "    </tr>\n",
       "    <tr>\n",
       "      <th>...</th>\n",
       "      <td>...</td>\n",
       "      <td>...</td>\n",
       "      <td>...</td>\n",
       "    </tr>\n",
       "    <tr>\n",
       "      <th>1149774</th>\n",
       "      <td>276704</td>\n",
       "      <td>0876044011</td>\n",
       "      <td>0</td>\n",
       "    </tr>\n",
       "    <tr>\n",
       "      <th>1149775</th>\n",
       "      <td>276704</td>\n",
       "      <td>1563526298</td>\n",
       "      <td>9</td>\n",
       "    </tr>\n",
       "    <tr>\n",
       "      <th>1149776</th>\n",
       "      <td>276706</td>\n",
       "      <td>0679447156</td>\n",
       "      <td>0</td>\n",
       "    </tr>\n",
       "    <tr>\n",
       "      <th>1149777</th>\n",
       "      <td>276709</td>\n",
       "      <td>0515107662</td>\n",
       "      <td>10</td>\n",
       "    </tr>\n",
       "    <tr>\n",
       "      <th>1149778</th>\n",
       "      <td>276721</td>\n",
       "      <td>0590442449</td>\n",
       "      <td>10</td>\n",
       "    </tr>\n",
       "  </tbody>\n",
       "</table>\n",
       "<p>1031136 rows × 3 columns</p>\n",
       "</div>"
      ],
      "text/plain": [
       "         UserID        ISBN  BookRating\n",
       "0        276725  034545104X           0\n",
       "1        276726  0155061224           5\n",
       "2        276727  0446520802           0\n",
       "3        276729  052165615X           3\n",
       "4        276729  0521795028           6\n",
       "...         ...         ...         ...\n",
       "1149774  276704  0876044011           0\n",
       "1149775  276704  1563526298           9\n",
       "1149776  276706  0679447156           0\n",
       "1149777  276709  0515107662          10\n",
       "1149778  276721  0590442449          10\n",
       "\n",
       "[1031136 rows x 3 columns]"
      ]
     },
     "execution_count": 44,
     "metadata": {},
     "output_type": "execute_result"
    }
   ],
   "source": [
    "# ISBN that is in books data\n",
    "unique_ratings=ratings[ratings.ISBN.isin(books.ISBN)]\n",
    "unique_ratings"
   ]
  },
  {
   "cell_type": "code",
   "execution_count": 45,
   "id": "07972f45-c3a1-48f6-acbd-8475429bbb42",
   "metadata": {},
   "outputs": [
    {
     "data": {
      "text/plain": [
       "(1149780, 3)"
      ]
     },
     "execution_count": 45,
     "metadata": {},
     "output_type": "execute_result"
    }
   ],
   "source": [
    "ratings.shape\n"
   ]
  },
  {
   "cell_type": "code",
   "execution_count": 46,
   "id": "0e222723-2a0f-436e-bb08-83331b3ce8d7",
   "metadata": {},
   "outputs": [
    {
     "data": {
      "text/plain": [
       "(1031136, 3)"
      ]
     },
     "execution_count": 46,
     "metadata": {},
     "output_type": "execute_result"
    }
   ],
   "source": [
    "unique_ratings.shape"
   ]
  },
  {
   "cell_type": "code",
   "execution_count": 47,
   "id": "79b606f7-b5f7-4e08-8d96-8c99db8f76c8",
   "metadata": {},
   "outputs": [
    {
     "data": {
      "text/plain": [
       "array([ 0,  5,  3,  6,  7,  9,  8, 10,  1,  4,  2], dtype=int64)"
      ]
     },
     "execution_count": 47,
     "metadata": {},
     "output_type": "execute_result"
    }
   ],
   "source": [
    "unique_ratings['BookRating'].unique()"
   ]
  },
  {
   "cell_type": "markdown",
   "id": "460e876a-63f3-46af-ad56-c29e37473702",
   "metadata": {},
   "source": [
    "# Data visualization"
   ]
  },
  {
   "cell_type": "code",
   "execution_count": 48,
   "id": "7699c4b1-eef2-48f0-8462-6aa815867415",
   "metadata": {},
   "outputs": [
    {
     "data": {
      "text/plain": [
       "<Axes: title={'center': 'top 15 authors with no of books'}, xlabel='count', ylabel='BookAuthor'>"
      ]
     },
     "execution_count": 48,
     "metadata": {},
     "output_type": "execute_result"
    },
    {
     "data": {
      "image/png": "[encoded data removed]",
      "text/plain": [
       "<Figure size 1200x600 with 1 Axes>"
      ]
     },
     "metadata": {},
     "output_type": "display_data"
    }
   ],
   "source": [
    " #  top 15 authors with highest no of books\n",
    "plt.figure(figsize=(12,6))\n",
    "plt.title(\"top 15 authors with no of books\")\n",
    "sns.countplot(y=\"BookAuthor\",palette='Paired',data=books,order=books['BookAuthor'].value_counts().index[0:15])"
   ]
  },
  {
   "cell_type": "code",
   "execution_count": 49,
   "id": "15297d62",
   "metadata": {},
   "outputs": [
    {
     "data": {
      "text/plain": [
       "Text(0.5, 1.0, 'top 15 publishers with no of books')"
      ]
     },
     "execution_count": 49,
     "metadata": {},
     "output_type": "execute_result"
    },
    {
     "data": {
      "image/png": "[encoded data removed]",
      "text/plain": [
       "<Figure size 1200x600 with 1 Axes>"
      ]
     },
     "metadata": {},
     "output_type": "display_data"
    }
   ],
   "source": [
    " #  top 15 publishers with highest no of books\n",
    "plt.figure(figsize=(12,6))\n",
    "sns.countplot(y=\"Publisher\",palette='Paired',data=books,order=books['Publisher'].value_counts().index[0:15])\n",
    "plt.title(\"top 15 publishers with no of books\")"
   ]
  },
  {
   "cell_type": "code",
   "execution_count": 50,
   "id": "5d4b2e2e-a414-437f-b436-fb5e202db5a0",
   "metadata": {},
   "outputs": [
    {
     "data": {
      "image/png": "[encoded data removed]",
      "text/plain": [
       "<Figure size 6500x2000 with 1 Axes>"
      ]
     },
     "metadata": {},
     "output_type": "display_data"
    }
   ],
   "source": [
    "publications={}\n",
    "for year in books[\"YearOfPublication\"]:\n",
    "    if str(year) not in publications:\n",
    "        publications[str(year)]=0\n",
    "    publications[str(year)]+=1    \n",
    "publications ={k:v for k ,v in sorted(publications.items())}\n",
    "fig=plt.figure(figsize=(65,20))\n",
    "plt.bar(list(publications.keys()),list(publications.values()),color='green')\n",
    "plt.ylabel(\"Number of books published\")\n",
    "plt.xlabel(\"year of publication\")\n",
    "plt.title(\"no of books published yearly\")\n",
    "plt.margins(x=0)\n",
    "plt.show()"
   ]
  },
  {
   "cell_type": "code",
   "execution_count": 51,
   "id": "b78a39b2-6104-4ef7-bdb3-758e9e02afbb",
   "metadata": {},
   "outputs": [
    {
     "data": {
      "text/plain": [
       "<Axes: xlabel='BookRating', ylabel='count'>"
      ]
     },
     "execution_count": 51,
     "metadata": {},
     "output_type": "execute_result"
    },
    {
     "data": {
      "image/png": "[encoded data removed]",
      "text/plain": [
       "<Figure size 1200x800 with 1 Axes>"
      ]
     },
     "metadata": {},
     "output_type": "display_data"
    }
   ],
   "source": [
    " plt.figure(figsize=(12,8))\n",
    "sns.countplot(x='BookRating',data=ratings)"
   ]
  },
  {
   "cell_type": "code",
   "execution_count": 52,
   "id": "128e8e11-d13d-41a2-bfe0-bbb10a5d1816",
   "metadata": {},
   "outputs": [
    {
     "data": {
      "text/plain": [
       "<Axes: xlabel='BookRating', ylabel='count'>"
      ]
     },
     "execution_count": 52,
     "metadata": {},
     "output_type": "execute_result"
    },
    {
     "data": {
      "image/png": "[encoded data removed]",
      "text/plain": [
       "<Figure size 1200x800 with 1 Axes>"
      ]
     },
     "metadata": {},
     "output_type": "display_data"
    }
   ],
   "source": [
    "plt.figure(figsize=(12,8))\n",
    "sns.countplot(x='BookRating',data=unique_ratings)"
   ]
  },
  {
   "cell_type": "code",
   "execution_count": 53,
   "id": "f9225b53-bd71-4613-94d5-03b6cb606aa6",
   "metadata": {},
   "outputs": [
    {
     "data": {
      "text/plain": [
       "Text(0.5, 1.0, 'Explicit ratings')"
      ]
     },
     "execution_count": 53,
     "metadata": {},
     "output_type": "execute_result"
    },
    {
     "data": {
      "image/png": "[encoded data removed]",
      "text/plain": [
       "<Figure size 1200x800 with 1 Axes>"
      ]
     },
     "metadata": {},
     "output_type": "display_data"
    }
   ],
   "source": [
    "# explicit ratings\n",
    "plt.figure(figsize=(12,8))\n",
    "explicit_rating=ratings[ratings['BookRating']!=0]\n",
    "sns.countplot(x='BookRating',data=explicit_rating)\n",
    "plt.title(\"Explicit ratings\")"
   ]
  },
  {
   "cell_type": "code",
   "execution_count": 54,
   "id": "cff6a078-9aff-46b3-892a-79bbe22d03d6",
   "metadata": {},
   "outputs": [
    {
     "data": {
      "text/plain": [
       "<Axes: title={'center': 'top 15 title with no of books'}, xlabel='count', ylabel='BookTitle'>"
      ]
     },
     "execution_count": 54,
     "metadata": {},
     "output_type": "execute_result"
    },
    {
     "data": {
      "image/png": "[encoded data removed]",
      "text/plain": [
       "<Figure size 1200x600 with 1 Axes>"
      ]
     },
     "metadata": {},
     "output_type": "display_data"
    }
   ],
   "source": [
    "plt.figure(figsize=(12,6))\n",
    "plt.title(\"top 15 title with no of books\")\n",
    "sns.countplot(y=\"BookTitle\",palette='Paired',data=books,order=books['BookTitle'].value_counts().index[0:15])"
   ]
  },
  {
   "cell_type": "raw",
   "id": "05b25cb3-6015-4de1-a48d-63a370ee3b39",
   "metadata": {},
   "source": []
  },
  {
   "cell_type": "code",
   "execution_count": 55,
   "id": "8822275a-557f-4334-be4f-e0c41d77623b",
   "metadata": {},
   "outputs": [
    {
     "data": {
      "text/plain": [
       "<Axes: >"
      ]
     },
     "execution_count": 55,
     "metadata": {},
     "output_type": "execute_result"
    },
    {
     "data": {
      "image/png": "[encoded data removed]",
      "text/plain": [
       "<Figure size 1200x800 with 1 Axes>"
      ]
     },
     "metadata": {},
     "output_type": "display_data"
    }
   ],
   "source": [
    "plt.figure(figsize=(12,8))\n",
    "users.Age.hist(bins=[10*i for i in range(1,10)],color = 'brown')"
   ]
  },
  {
   "cell_type": "markdown",
   "id": "5e642ee3-0bd0-4d0b-87fb-c2a27b10929e",
   "metadata": {},
   "source": [
    "# popularity based recommendation system"
   ]
  },
  {
   "cell_type": "code",
   "execution_count": null,
   "id": "78fe9da1-98ea-482b-a4ac-c11d53380d42",
   "metadata": {},
   "outputs": [],
   "source": [
    "dataset=pd.merge(books,ratings,on='ISBN')\n",
    "dataset=pd.merge(dataset,users,on='UserID')\n",
    "dataset.info()"
   ]
  },
  {
   "cell_type": "code",
   "execution_count": null,
   "id": "69b4f61f-8f94-4b35-85f7-d0c046a91833",
   "metadata": {},
   "outputs": [],
   "source": [
    "dataset.shape"
   ]
  },
  {
   "cell_type": "code",
   "execution_count": null,
   "id": "e05c777d-ab2b-4e26-90b4-497e3faa8a9a",
   "metadata": {},
   "outputs": [],
   "source": [
    "# count the no of ratings with the book title\n",
    "num_rating_df=dataset.groupby(\"BookTitle\").count()['BookRating'].reset_index()\n",
    "num_rating_df.rename(columns={'BookRating':'num_ratings'},inplace=True)\n",
    "num_rating_df"
   ]
  },
  {
   "cell_type": "code",
   "execution_count": null,
   "id": "6910989b-4ec2-4274-9eef-e50a374e961a",
   "metadata": {},
   "outputs": [],
   "source": [
    "# dataset['BookRating'] = pd.to_numeric(dataset['BookRating'], errors='coerce')\n",
    "avg_rating_df=dataset.groupby(\"BookTitle\")['BookRating'].mean().reset_index()\n",
    "avg_rating_df.rename(columns={'BookRating':'avg_ratings'},inplace=True)\n",
    "avg_rating_df"
   ]
  },
  {
   "cell_type": "code",
   "execution_count": null,
   "id": "d47cdfd4-8058-4abd-b31d-cda3ad2653e3",
   "metadata": {},
   "outputs": [],
   "source": [
    "# merge num df and avg df\n",
    "popular_df=num_rating_df.merge(avg_rating_df, on='BookTitle')\n",
    "popular_df"
   ]
  },
  {
   "cell_type": "code",
   "execution_count": null,
   "id": "33e1eee3-536c-43ac-831d-1a979370814f",
   "metadata": {},
   "outputs": [],
   "source": [
    "# conditions for recommendation\n",
    "popular_df=popular_df[popular_df['num_ratings']>=250].sort_values('avg_ratings',ascending=False).head(50)"
   ]
  },
  {
   "cell_type": "code",
   "execution_count": null,
   "id": "1aa4a5bd-0c50-460a-9eef-1453031a603a",
   "metadata": {},
   "outputs": [],
   "source": [
    "popular_df=popular_df.merge(books,on='BookTitle').drop_duplicates(\"BookTitle\")[['BookTitle','BookAuthor','YearOfPublication','ImageURLM','num_ratings','avg_ratings']]"
   ]
  },
  {
   "cell_type": "code",
   "execution_count": null,
   "id": "9e566761-ed1c-4ae5-a3a6-58f29738120b",
   "metadata": {},
   "outputs": [],
   "source": [
    "popular_df"
   ]
  },
  {
   "cell_type": "markdown",
   "id": "d8161c08-a630-4a7c-9aad-9e4160f97950",
   "metadata": {},
   "source": [
    "# collaborative filtering based recommender system"
   ]
  },
  {
   "cell_type": "code",
   "execution_count": null,
   "id": "a430b77b-6da7-4797-9e1a-3ee27ddb3ae6",
   "metadata": {},
   "outputs": [],
   "source": [
    "# users that give ratings to minimum to 250 books\n",
    "x=dataset.groupby('UserID').count()['BookRating']>=200\n",
    "user_ratings=x[x].index"
   ]
  },
  {
   "cell_type": "code",
   "execution_count": null,
   "id": "9ed66b81-7504-44d4-8b43-4227552a05e5",
   "metadata": {},
   "outputs": [],
   "source": [
    "user_ratings=dataset[dataset['UserID'].isin(user_ratings)]"
   ]
  },
  {
   "cell_type": "code",
   "execution_count": null,
   "id": "b526b0bc-dd57-4a3d-af36-a4e114a7010b",
   "metadata": {},
   "outputs": [],
   "source": [
    "# books that get minimum 50 \n",
    "books_ratings=user_ratings.groupby('BookTitle').count()['BookRating']>=50\n",
    "famous_books=books_ratings[books_ratings].index"
   ]
  },
  {
   "cell_type": "code",
   "execution_count": null,
   "id": "7349001c-8ab8-4a01-85e4-f3cc4274434e",
   "metadata": {},
   "outputs": [],
   "source": [
    "final_ratings=user_ratings[user_ratings['BookTitle'].isin(famous_books)]"
   ]
  },
  {
   "cell_type": "code",
   "execution_count": null,
   "id": "a48e69ca-1356-4910-adf7-d8d4cb67c676",
   "metadata": {},
   "outputs": [],
   "source": [
    "grid=final_ratings.pivot_table(index='BookTitle',columns='UserID',values='BookRating')"
   ]
  },
  {
   "cell_type": "code",
   "execution_count": null,
   "id": "f42b87b8-9e9c-444b-a38d-cd00b83e78ac",
   "metadata": {},
   "outputs": [],
   "source": [
    "grid.fillna(0,inplace=True)"
   ]
  },
  {
   "cell_type": "code",
   "execution_count": null,
   "id": "d56c03cd-f675-479e-9184-9abba100d63e",
   "metadata": {},
   "outputs": [],
   "source": [
    "grid"
   ]
  },
  {
   "cell_type": "code",
   "execution_count": null,
   "id": "048f0c00-ee69-413a-b43f-fd049c4daff6",
   "metadata": {},
   "outputs": [],
   "source": [
    "# cosine\n",
    "from sklearn.metrics.pairwise import cosine_similarity"
   ]
  },
  {
   "cell_type": "code",
   "execution_count": null,
   "id": "f130d782-d5e0-4cf9-a3b4-5d0e75ce497e",
   "metadata": {},
   "outputs": [],
   "source": [
    "similar_score=cosine_similarity(grid)"
   ]
  },
  {
   "cell_type": "code",
   "execution_count": null,
   "id": "37a1c97f-f765-49b8-8163-e2b72e46cd44",
   "metadata": {},
   "outputs": [],
   "source": [
    "similar_score.shape"
   ]
  },
  {
   "cell_type": "code",
   "execution_count": null,
   "id": "36f79c9b-95e1-4dfa-9a7a-c96960232539",
   "metadata": {},
   "outputs": [],
   "source": [
    "def recommend(book_name):\n",
    "    # index\n",
    "    index=np.where(grid.index==book_name)[0][0]\n",
    "    similar_items=sorted(list(enumerate(similar_score[index])),key=lambda x:x[1] , reverse =True)[1:6]\n",
    "    for i in similar_items:\n",
    "        print(grid.index[i[0]])\n"
   ]
  },
  {
   "cell_type": "code",
   "execution_count": null,
   "id": "2dbdf158-a34e-486b-a384-ba443aea29f2",
   "metadata": {},
   "outputs": [],
   "source": [
    "# np.where(grid.index=='A Bend in the Road')[0][0]"
   ]
  },
  {
   "cell_type": "code",
   "execution_count": null,
   "id": "055883d2-ebcd-40f4-90b8-00bef7732af5",
   "metadata": {},
   "outputs": [],
   "source": [
    "# sorted(list(enumerate(similar_score[0])),key=lambda x:x[1] , reverse =True)[1:6]"
   ]
  },
  {
   "cell_type": "code",
   "execution_count": null,
   "id": "d43e60a9-5f5d-4a9c-b19b-87d1c85fa639",
   "metadata": {},
   "outputs": [],
   "source": [
    "recommend('The Bean Trees')"
   ]
  },
  {
   "cell_type": "code",
   "execution_count": null,
   "id": "659f46a3-1287-40c7-b52c-9ac9a4504aa2",
   "metadata": {},
   "outputs": [],
   "source": [
    "recommend('1st to Die: A Novel')"
   ]
  },
  {
   "cell_type": "code",
   "execution_count": null,
   "id": "687d4d69-dbe2-4682-bdc9-4f5b4681e6ba",
   "metadata": {},
   "outputs": [],
   "source": [
    "#  create pickle file\n",
    "Isle of Dogs\n",
    "\n",
    "Organic Chemistry (Saunders Golden Sunburst Series)\n",
    "\n",
    "Modern Manners: An Etiquette Book for Rude People\n",
    "\n",
    "I Like School (in My World Series)\n",
    "\n",
    "Going down swinging"
   ]
  },
  {
   "cell_type": "code",
   "execution_count": null,
   "id": "8a03b676-a6bc-49f8-b5c8-707afb71f481",
   "metadata": {},
   "outputs": [],
   "source": [
    "import pickle\n",
    "pickle.dump(books.to_dict(),open('book_dic.pkl','wb'))"
   ]
  },
  {
   "cell_type": "code",
   "execution_count": null,
   "id": "67d1c215-7698-4b1c-89d0-9fa1a8b3489c",
   "metadata": {},
   "outputs": [],
   "source": [
    "books['BookTitle'].to_dict()"
   ]
  },
  {
   "cell_type": "code",
   "execution_count": null,
   "id": "0830ddea-3a57-4b6a-bbc8-cdd5b0538cbd",
   "metadata": {},
   "outputs": [],
   "source": [
    "pickle.dump(similar_score,open(\"similar.pkl\",'wb'))"
   ]
  }
 ],
 "metadata": {
  "kernelspec": {
   "display_name": "Python 3 (ipykernel)",
   "language": "python",
   "name": "python3"
  },
  "language_info": {
   "codemirror_mode": {
    "name": "ipython",
    "version": 3
   },
   "file_extension": ".py",
   "mimetype": "text/x-python",
   "name": "python",
   "nbconvert_exporter": "python",
   "pygments_lexer": "ipython3",
   "version": "3.11.3"
  }
 },
 "nbformat": 4,
 "nbformat_minor": 5
}
